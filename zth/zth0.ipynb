{
 "cells": [
  {
   "cell_type": "code",
   "execution_count": null,
   "id": "b9aae450-8a14-422e-9ea3-151ecedbb8dc",
   "metadata": {},
   "outputs": [],
   "source": [
    "# Starting Part 0 of Andrej Karpathy's Zero to Hero series on YouTube\n",
    "import numpy as np"
   ]
  }
 ],
 "metadata": {
  "kernelspec": {
   "display_name": "Python 3 (ipykernel)",
   "language": "python",
   "name": "python3"
  },
  "language_info": {
   "codemirror_mode": {
    "name": "ipython",
    "version": 3
   },
   "file_extension": ".py",
   "mimetype": "text/x-python",
   "name": "python",
   "nbconvert_exporter": "python",
   "pygments_lexer": "ipython3",
   "version": "3.12.3"
  }
 },
 "nbformat": 4,
 "nbformat_minor": 5
}
