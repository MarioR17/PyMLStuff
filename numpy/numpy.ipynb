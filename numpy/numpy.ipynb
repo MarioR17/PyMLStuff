{
 "cells": [
  {
   "cell_type": "code",
   "execution_count": 2,
   "id": "4f707076-8e7c-420e-a169-9388f6547a5e",
   "metadata": {},
   "outputs": [],
   "source": [
    "import numpy as np\n"
   ]
  },
  {
   "cell_type": "code",
   "execution_count": 14,
   "id": "26681966-3a6b-457c-b73b-f4907beda6f2",
   "metadata": {},
   "outputs": [
    {
     "name": "stdout",
     "output_type": "stream",
     "text": [
      "3\n",
      "int64\n"
     ]
    }
   ],
   "source": [
    "a = np.array([1, 2, 3])\n",
    "print(a.shape[0])\n",
    "print(a.dtype)"
   ]
  },
  {
   "cell_type": "code",
   "execution_count": 19,
   "id": "261c0b4b-10b8-485f-b502-943e8749f93a",
   "metadata": {},
   "outputs": [
    {
     "data": {
      "text/plain": [
       "array([1, 2, 3])"
      ]
     },
     "execution_count": 19,
     "metadata": {},
     "output_type": "execute_result"
    }
   ],
   "source": [
    "#a = np.sqrt(a)\n",
    "a"
   ]
  },
  {
   "cell_type": "code",
   "execution_count": 21,
   "id": "cc6cefbd-469c-491c-83db-85a336dfe7e9",
   "metadata": {},
   "outputs": [
    {
     "name": "stdout",
     "output_type": "stream",
     "text": [
      "32\n",
      "32\n"
     ]
    }
   ],
   "source": [
    "l1 = [1, 2, 3]\n",
    "l2 = [4, 5, 6]\n",
    "a1 = np.array(l1)\n",
    "a2 = np.array(l2)\n",
    "dot = np.dot(a1, a2)\n",
    "print(dot)\n",
    "dot2 = a1 @ a2\n",
    "print(dot2)"
   ]
  },
  {
   "cell_type": "code",
   "execution_count": 32,
   "id": "a728228b-5ade-4bcb-96cd-83bf37731676",
   "metadata": {},
   "outputs": [
    {
     "name": "stdout",
     "output_type": "stream",
     "text": [
      "(2, 3)\n",
      "8\n"
     ]
    }
   ],
   "source": [
    "a = np.array([[1, 2, 6], [3, 4, 8]])\n",
    "print(a.shape)\n",
    "print(a[1, 2])"
   ]
  },
  {
   "cell_type": "code",
   "execution_count": null,
   "id": "64bac776-f80e-45ed-8d1b-e6257ffe0775",
   "metadata": {},
   "outputs": [],
   "source": []
  }
 ],
 "metadata": {
  "kernelspec": {
   "display_name": "Python 3 (ipykernel)",
   "language": "python",
   "name": "python3"
  },
  "language_info": {
   "codemirror_mode": {
    "name": "ipython",
    "version": 3
   },
   "file_extension": ".py",
   "mimetype": "text/x-python",
   "name": "python",
   "nbconvert_exporter": "python",
   "pygments_lexer": "ipython3",
   "version": "3.12.4"
  }
 },
 "nbformat": 4,
 "nbformat_minor": 5
}
