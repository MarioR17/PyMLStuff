{
 "cells": [
  {
   "cell_type": "code",
   "execution_count": 8,
   "id": "1055f053-dbd8-4510-877c-96dfd9dc3069",
   "metadata": {},
   "outputs": [],
   "source": [
    "import numpy as np\n",
    "import nnfs\n",
    "from nnfs.datasets import spiral_data\n",
    "import matplotlib.pyplot as plt\n",
    "\n",
    "%matplotlib inline\n",
    "nnfs.init()"
   ]
  },
  {
   "cell_type": "markdown",
   "id": "a4f1a903-1d04-4ee0-87db-8b321929e949",
   "metadata": {},
   "source": [
    "Activation Functions:\n",
    "\n",
    "- Step Function:\n",
    "y = {1 if x > 0 | 0 if x <= 0}\n",
    "Not good anymore because way different inputs yield same output\n",
    "\n",
    "- Linear Function\n",
    "y = x\n",
    "Not good unless we're doing linear regression model because we want a\n",
    "non linear function\n",
    "\n",
    "- Sigmoid Function\n",
    "y = 1 / (1+e^(-x))\n",
    "Pretty good because granular, but not the best usually because hard to compute\n",
    "\n",
    "- Rectified Linear Function (ReLU)\n",
    "y = {x if x > 0 | 0 if x <= 0}\n",
    "Usually used and really good because nonlinear due to bend at 0\n",
    "and easy to compute because linear after 0 and 0 if less"
   ]
  },
  {
   "cell_type": "markdown",
   "id": "2d03576d-25a9-496a-a43c-b856604640a8",
   "metadata": {},
   "source": [
    "Why use Activation Functions?\n",
    "\n",
    "Not all problems are linear, especially with machine learning they're actually usually <i>nonlinear<i>.\n"
   ]
  },
  {
   "cell_type": "code",
   "execution_count": 9,
   "id": "e6ed888c-f0c5-48f4-a936-aba2c84ae3b8",
   "metadata": {},
   "outputs": [
    {
     "name": "stdout",
     "output_type": "stream",
     "text": [
      "<class 'list'>\n",
      "[0, 2, 0, 3.3, 0, 1.1, 2.2, 0]\n"
     ]
    }
   ],
   "source": [
    "# ReLU Activation Code\n",
    "inputs = [0,2,-1,3.3,-2.7,1.1,2.2,-100]\n",
    "\n",
    "output = []\n",
    "for i in inputs:\n",
    "    if i > 0:\n",
    "        output.append(i)\n",
    "    else:\n",
    "        output.append(0)\n",
    "\n",
    "print(type(output))\n",
    "print(output)"
   ]
  },
  {
   "cell_type": "code",
   "execution_count": 10,
   "id": "475bec38-79c8-4044-9d0f-04e572b57315",
   "metadata": {},
   "outputs": [
    {
     "name": "stdout",
     "output_type": "stream",
     "text": [
      "<class 'numpy.ndarray'>\n",
      "[0.  2.  0.  3.3 0.  1.1 2.2 0. ]\n"
     ]
    }
   ],
   "source": [
    "# ReLU with numpy\n",
    "inputs = [0,2,-1,3.3,-2.7,1.1,2.2,-100]\n",
    "output = np.maximum(0, inputs)\n",
    "print(type(output))\n",
    "print(output)"
   ]
  },
  {
   "cell_type": "code",
   "execution_count": 11,
   "id": "4dfab849-6696-49a6-93a3-e327971d0378",
   "metadata": {},
   "outputs": [],
   "source": [
    "# ReLU Activation class\n",
    "class Activation_ReLU:\n",
    "\n",
    "    # forward pass\n",
    "    def forward(self, inputs):\n",
    "        # Calculate output values from input\n",
    "        self.output = np.maximum(0, inputs)"
   ]
  },
  {
   "cell_type": "code",
   "execution_count": 15,
   "id": "ddcb0bda-5800-43c6-967e-63cebfea4613",
   "metadata": {},
   "outputs": [],
   "source": [
    "class Layer_Dense:\n",
    "\n",
    "    def __init__(self, n_inputs, n_neurons):\n",
    "        # Initialize weights and biases\n",
    "        # pass # Using pass statement as a placeholder\n",
    "        self.weights = 0.01 * np.random.randn(n_inputs, n_neurons)\n",
    "        self.biases = np.zeros((1, n_neurons))\n",
    "\n",
    "    # Forward pass\n",
    "    def forward(self, inputs):\n",
    "        # Calculate output values from inputs, weights and biases\n",
    "        #pass # using pass statements as a placeholder\n",
    "        self.output = np.dot(inputs, self.weights) + self.biases"
   ]
  },
  {
   "cell_type": "code",
   "execution_count": 16,
   "id": "9a21fe4c-4157-4a99-b663-b44b3af0fb90",
   "metadata": {},
   "outputs": [
    {
     "name": "stdout",
     "output_type": "stream",
     "text": [
      "[[0.0000000e+00 0.0000000e+00 0.0000000e+00]\n",
      " [1.3520580e-04 1.8173116e-05 0.0000000e+00]\n",
      " [2.3245417e-04 0.0000000e+00 0.0000000e+00]\n",
      " [3.8226307e-04 0.0000000e+00 0.0000000e+00]\n",
      " [5.7436468e-04 0.0000000e+00 0.0000000e+00]]\n"
     ]
    }
   ],
   "source": [
    "# create dataset\n",
    "X, y = spiral_data(samples=100, classes=3)\n",
    "\n",
    "# Create Dense layer with 2 input features and 3 output values\n",
    "dense1 = Layer_Dense(2, 3)\n",
    "\n",
    "# Create ReLU activation (to be used with Dense layer):\n",
    "activation1 = Activation_ReLU()\n",
    "\n",
    "# make a forward pass of our training data through this layer\n",
    "dense1.forward(X)\n",
    "\n",
    "# Forward pass through activation func.\n",
    "# Takes in output from previous layer\n",
    "activation1.forward(dense1.output)\n",
    "\n",
    "# See first few samples\n",
    "print(activation1.output[:5])"
   ]
  },
  {
   "cell_type": "markdown",
   "id": "dc819ba7-3636-44ca-a372-905f8c8797d7",
   "metadata": {},
   "source": [
    "Softmax Activation Function:\n",
    "\n",
    "Softmax Function is meant for classification and it is used on the output of the last layer.\n",
    "\n"
   ]
  },
  {
   "cell_type": "code",
   "execution_count": 17,
   "id": "9cf5cd32-7134-4c95-861b-77d591c98004",
   "metadata": {},
   "outputs": [
    {
     "name": "stdout",
     "output_type": "stream",
     "text": [
      "exponentiated values:\n",
      "[121.51041751893969, 3.3534846525504487, 10.85906266492961]\n"
     ]
    }
   ],
   "source": [
    "# Softmax\n",
    "\n",
    "# Values from the previous output when we described\n",
    "# what a neural network is\n",
    "layer_outputs = [4.8, 1.21, 2.385]\n",
    "\n",
    "# e - mathematical constant, we use here to match constants convention\n",
    "E = 2.71828182846\n",
    "\n",
    "# For each value in a vector, calculate the exponential value\n",
    "exp_values = []\n",
    "for output in layer_outputs:\n",
    "    exp_values.append(E ** output) # ** - Power\n",
    "print('exponentiated values:')\n",
    "print(exp_values)"
   ]
  },
  {
   "cell_type": "code",
   "execution_count": 19,
   "id": "1cda7f22-0ba3-4e77-bdc2-a32f995b62b9",
   "metadata": {},
   "outputs": [
    {
     "name": "stdout",
     "output_type": "stream",
     "text": [
      "Normalized exponentiated values:\n",
      "[0.8952826639573506, 0.024708306782070668, 0.08000902926057876]\n",
      "Sum of normalized values: 1.0\n"
     ]
    }
   ],
   "source": [
    "# Now normalize values\n",
    "norm_base = sum(exp_values) # We sum all values\n",
    "norm_values = []\n",
    "for value in exp_values:\n",
    "    norm_values.append(value / norm_base)\n",
    "print('Normalized exponentiated values:')\n",
    "print(norm_values)\n",
    "\n",
    "print('Sum of normalized values:', sum(norm_values))"
   ]
  },
  {
   "cell_type": "code",
   "execution_count": 20,
   "id": "cea2ca34-e6ea-4698-8ab5-acdb0bae2f93",
   "metadata": {},
   "outputs": [
    {
     "name": "stdout",
     "output_type": "stream",
     "text": [
      "exponentiated values:\n",
      "[121.51041752   3.35348465  10.85906266]\n",
      "Normalized exponentiated values:\n",
      "[0.89528266 0.02470831 0.08000903]\n",
      "Sum of normalized values: 0.9999999999999999\n"
     ]
    }
   ],
   "source": [
    "# W/ Numpy\n",
    "\n",
    "layer_outputs = [4.8, 1.21, 2.385]\n",
    "\n",
    "# For each value in vector, calculate the exponential value\n",
    "exp_values = np.exp(layer_outputs)\n",
    "print('exponentiated values:')\n",
    "print(exp_values)\n",
    "\n",
    "# Now normalize values\n",
    "norm_values = exp_values / np.sum(exp_values)\n",
    "print('Normalized exponentiated values:')\n",
    "print(norm_values)\n",
    "\n",
    "print('Sum of normalized values:', np.sum(norm_values))"
   ]
  },
  {
   "cell_type": "code",
   "execution_count": 31,
   "id": "3ba8b3ac-47d0-4ca2-8024-9bb60cd34be6",
   "metadata": {},
   "outputs": [],
   "source": [
    "class Activation_Softmax:\n",
    "\n",
    "    def forward(self, inputs):\n",
    "\n",
    "        exp_values = np.exp(inputs - np.max(inputs, axis=1,\n",
    "                                            keepdims=True))\n",
    "        probabilities = exp_values / np.sum(exp_values, axis=1,\n",
    "                                            keepdims=True)\n",
    "        self.output = probabilities"
   ]
  },
  {
   "cell_type": "code",
   "execution_count": 32,
   "id": "54c5660c-d23a-438e-8732-8151c5be59ee",
   "metadata": {},
   "outputs": [
    {
     "name": "stdout",
     "output_type": "stream",
     "text": [
      "2.718281828459045\n"
     ]
    }
   ],
   "source": [
    "print(np.exp(1))"
   ]
  },
  {
   "cell_type": "code",
   "execution_count": 33,
   "id": "11ff92f4-1482-4fad-b585-c7d24dec2a19",
   "metadata": {},
   "outputs": [
    {
     "name": "stdout",
     "output_type": "stream",
     "text": [
      "22026.465794806718\n"
     ]
    }
   ],
   "source": [
    "print(np.exp(10))"
   ]
  },
  {
   "cell_type": "code",
   "execution_count": 34,
   "id": "f6da65f8-1c3d-40fc-a601-52bac43a0192",
   "metadata": {},
   "outputs": [
    {
     "name": "stdout",
     "output_type": "stream",
     "text": [
      "2.6881171418161356e+43\n"
     ]
    }
   ],
   "source": [
    "print(np.exp(100))"
   ]
  },
  {
   "cell_type": "code",
   "execution_count": 35,
   "id": "a3c10bb5-06aa-439b-96af-d625f5a1a5ad",
   "metadata": {},
   "outputs": [
    {
     "name": "stdout",
     "output_type": "stream",
     "text": [
      "inf\n"
     ]
    },
    {
     "name": "stderr",
     "output_type": "stream",
     "text": [
      "/var/folders/mc/qw2hjfsn50z9h38kbkq41jx80000gn/T/ipykernel_90468/2528843860.py:1: RuntimeWarning: overflow encountered in exp\n",
      "  print(np.exp(1000))\n"
     ]
    }
   ],
   "source": [
    "print(np.exp(1000))"
   ]
  },
  {
   "cell_type": "code",
   "execution_count": 36,
   "id": "00b58d39-6884-4463-afed-894e60c1f378",
   "metadata": {},
   "outputs": [
    {
     "name": "stdout",
     "output_type": "stream",
     "text": [
      "0.0 1.0\n"
     ]
    }
   ],
   "source": [
    "print(np.exp(-np.inf), np.exp(0))"
   ]
  },
  {
   "cell_type": "code",
   "execution_count": 37,
   "id": "b9f48d15-023c-4992-ba3a-be9d0bcdfdbf",
   "metadata": {},
   "outputs": [
    {
     "name": "stdout",
     "output_type": "stream",
     "text": [
      "[[0.09003057 0.24472847 0.66524096]]\n"
     ]
    }
   ],
   "source": [
    "softmax = Activation_Softmax()\n",
    "\n",
    "softmax.forward([[1,2,3]])\n",
    "print(softmax.output)"
   ]
  },
  {
   "cell_type": "code",
   "execution_count": 38,
   "id": "64593261-9068-429b-9ad0-8f68c49a3b66",
   "metadata": {},
   "outputs": [
    {
     "name": "stdout",
     "output_type": "stream",
     "text": [
      "[[0.09003057 0.24472847 0.66524096]]\n"
     ]
    }
   ],
   "source": [
    "softmax.forward([[-2,-1,0]])\n",
    "print(softmax.output)"
   ]
  },
  {
   "cell_type": "code",
   "execution_count": 39,
   "id": "fc6f500f-925f-4d9f-8ae4-00c573c00ae5",
   "metadata": {},
   "outputs": [
    {
     "name": "stdout",
     "output_type": "stream",
     "text": [
      "[[0.18632372 0.30719589 0.50648039]]\n"
     ]
    }
   ],
   "source": [
    "softmax.forward([[0.5,1,1.5]])\n",
    "print(softmax.output)"
   ]
  },
  {
   "cell_type": "code",
   "execution_count": 40,
   "id": "7855fed7-3d11-48c6-8de8-64bb90c1adac",
   "metadata": {},
   "outputs": [
    {
     "name": "stdout",
     "output_type": "stream",
     "text": [
      "[[0.33333334 0.33333334 0.33333334]\n",
      " [0.33333322 0.33333343 0.33333334]\n",
      " [0.33333296 0.33333388 0.3333332 ]\n",
      " [0.3333323  0.33333504 0.33333266]\n",
      " [0.33333194 0.33333552 0.33333248]]\n"
     ]
    }
   ],
   "source": [
    "X, y = spiral_data(samples=100, classes=3)\n",
    "\n",
    "dense1 = Layer_Dense(2, 3)\n",
    "\n",
    "activation1 = Activation_ReLU()\n",
    "\n",
    "dense2 = Layer_Dense(3, 3)\n",
    "\n",
    "activation2 = Activation_Softmax()\n",
    "\n",
    "dense1.forward(X)\n",
    "\n",
    "activation1.forward(dense1.output)\n",
    "\n",
    "dense2.forward(activation1.output)\n",
    "\n",
    "activation2.forward(dense2.output)\n",
    "\n",
    "print(activation2.output[:5])"
   ]
  }
 ],
 "metadata": {
  "kernelspec": {
   "display_name": "Python 3 (ipykernel)",
   "language": "python",
   "name": "python3"
  },
  "language_info": {
   "codemirror_mode": {
    "name": "ipython",
    "version": 3
   },
   "file_extension": ".py",
   "mimetype": "text/x-python",
   "name": "python",
   "nbconvert_exporter": "python",
   "pygments_lexer": "ipython3",
   "version": "3.12.4"
  }
 },
 "nbformat": 4,
 "nbformat_minor": 5
}
