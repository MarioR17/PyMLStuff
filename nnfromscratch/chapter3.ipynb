{
 "cells": [
  {
   "cell_type": "code",
   "execution_count": 20,
   "id": "c8570eb0-c873-454f-880d-ed440006bd0b",
   "metadata": {},
   "outputs": [],
   "source": [
    "import numpy as np\n",
    "import nnfs\n",
    "from nnfs.datasets import spiral_data\n",
    "import matplotlib.pyplot as plt\n",
    "\n",
    "%matplotlib inline\n",
    "nnfs.init()"
   ]
  },
  {
   "cell_type": "code",
   "execution_count": 21,
   "id": "dfa7326d-118a-4c1c-a812-d31d94084805",
   "metadata": {},
   "outputs": [
    {
     "name": "stdout",
     "output_type": "stream",
     "text": [
      "[[ 4.79999995  1.21000004  2.38499999]\n",
      " [ 8.9000001  -1.80999994  0.19999999]\n",
      " [ 1.41000003  1.051       0.02599999]]\n",
      "\n",
      "[[ 0.50310004 -1.04184985 -2.03874993]\n",
      " [ 0.24339998 -2.73320007 -5.76329994]\n",
      " [-0.99314     1.41254002 -0.35655001]]\n"
     ]
    }
   ],
   "source": [
    "# getting inputs and getting the layer outputs for 1 layer then 2\n",
    "# Had to set the lists to np arrays so it didn't mess up when importing nnfs\n",
    "inputs = np.array([[1,2,3,2.5],\n",
    "          [2.,5.,-1.,2.],\n",
    "          [-1.5,2.7,3.3,-0.8]])\n",
    "weights = np.array([[0.2,0.8,-0.5,1.],\n",
    "           [0.5,-0.91,0.26,-0.5],\n",
    "           [-0.26,-0.27,0.17,0.87]])\n",
    "biases = np.array([2,3,0.5])\n",
    "\n",
    "# Weights and biases for our 2nd layer of neurons\n",
    "weights2 = np.array([[0.1,-0.14,0.5],\n",
    "             [-0.5,0.12,-0.33],\n",
    "             [-0.44,0.73,-0.13]])\n",
    "biases2 = np.array([-1,2,-0.5])\n",
    "\n",
    "layer1_outputs = np.dot(inputs, np.array(weights).T) + biases\n",
    "\n",
    "print(layer1_outputs)\n",
    "\n",
    "print(\"\")\n",
    "\n",
    "layer2_outputs = np.dot(layer1_outputs, np.array(weights2).T) + biases2\n",
    "\n",
    "print(layer2_outputs)"
   ]
  },
  {
   "cell_type": "code",
   "execution_count": 22,
   "id": "cfc03070-8d13-4c0f-aa83-8a0cd61b7539",
   "metadata": {},
   "outputs": [],
   "source": [
    "class Layer_Dense:\n",
    "\n",
    "    def __init__(self, n_inputs, n_neurons):\n",
    "        # Initialize weights and biases\n",
    "        # pass # Using pass statement as a placeholder\n",
    "        self.weights = 0.01 * np.random.randn(n_inputs, n_neurons)\n",
    "        self.biases = np.zeros((1, n_neurons))\n",
    "\n",
    "    # Forward pass\n",
    "    def forward(self, inputs):\n",
    "        # Calculate output values from inputs, weights and biases\n",
    "        #pass # using pass statements as a placeholder\n",
    "        self.output = np.dot(inputs, self.weights) + self.biases"
   ]
  },
  {
   "cell_type": "code",
   "execution_count": 23,
   "id": "febc19af-2a3a-42f2-8ac3-4b5be2e222e3",
   "metadata": {},
   "outputs": [
    {
     "name": "stdout",
     "output_type": "stream",
     "text": [
      "[[ 1.7640524   0.4001572   0.978738    2.2408931   1.867558  ]\n",
      " [-0.9772779   0.95008844 -0.1513572  -0.10321885  0.41059852]]\n"
     ]
    }
   ],
   "source": [
    "# Makes an np array with random values with a shape of 2x5\n",
    "print(np.random.randn(2,5))"
   ]
  },
  {
   "cell_type": "code",
   "execution_count": 24,
   "id": "98d166ad-ab99-488d-9877-63943f45dc9e",
   "metadata": {},
   "outputs": [
    {
     "name": "stdout",
     "output_type": "stream",
     "text": [
      "[[ 0.00144044  0.01454273  0.00761038  0.00121675]\n",
      " [ 0.00443863  0.00333674  0.01494079 -0.00205158]]\n",
      "[[0. 0. 0. 0.]]\n"
     ]
    }
   ],
   "source": [
    "# Example of what happens inside of our init in the Layer_Dense class\n",
    "\n",
    "n_inputs = 2\n",
    "n_neurons = 4\n",
    "weights = 0.01 * np.random.randn(n_inputs, n_neurons)\n",
    "biases = np.zeros((1, n_neurons))\n",
    "\n",
    "print(weights)\n",
    "print(biases)"
   ]
  },
  {
   "cell_type": "code",
   "execution_count": 25,
   "id": "5c681a0c-fc98-4b36-9735-6942c6f21682",
   "metadata": {},
   "outputs": [
    {
     "name": "stdout",
     "output_type": "stream",
     "text": [
      "[[ 0.0000000e+00  0.0000000e+00  0.0000000e+00]\n",
      " [-7.5800526e-05  2.9739751e-05 -6.1969404e-05]\n",
      " [-6.7263041e-05  4.5470897e-05  4.2126936e-05]\n",
      " [-2.1008983e-04  4.8072201e-05 -3.4661393e-04]\n",
      " [-2.3864214e-04  4.2164596e-05 -4.5704172e-04]]\n"
     ]
    }
   ],
   "source": [
    "# Creating dataset\n",
    "X, Y = spiral_data(samples=100, classes=3)\n",
    "\n",
    "# Create dense layer with 2 input features and 3 output values\n",
    "dense1 = Layer_Dense(2, 3)\n",
    "\n",
    "# Perform a forward pass of our training data through this layer\n",
    "dense1.forward(X)\n",
    "\n",
    "# Let's see the output of the first few samples:\n",
    "\n",
    "print(dense1.output[:5])"
   ]
  }
 ],
 "metadata": {
  "kernelspec": {
   "display_name": "Python 3 (ipykernel)",
   "language": "python",
   "name": "python3"
  },
  "language_info": {
   "codemirror_mode": {
    "name": "ipython",
    "version": 3
   },
   "file_extension": ".py",
   "mimetype": "text/x-python",
   "name": "python",
   "nbconvert_exporter": "python",
   "pygments_lexer": "ipython3",
   "version": "3.12.4"
  }
 },
 "nbformat": 4,
 "nbformat_minor": 5
}
