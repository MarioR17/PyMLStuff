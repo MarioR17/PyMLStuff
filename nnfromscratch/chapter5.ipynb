{
 "cells": [
  {
   "cell_type": "markdown",
   "id": "805f4c6e-95c3-45b5-8400-1dac5ac341ec",
   "metadata": {},
   "source": [
    "Chapter 5: Loss Function"
   ]
  },
  {
   "cell_type": "code",
   "execution_count": 2,
   "id": "7eb9c07b-83f7-4e59-8672-2ed72fcf1b00",
   "metadata": {},
   "outputs": [],
   "source": [
    "import numpy as np\n",
    "import nnfs\n",
    "from nnfs.datasets import spiral_data\n",
    "import matplotlib.pyplot as plt\n",
    "\n",
    "%matplotlib inline\n",
    "nnfs.init()"
   ]
  },
  {
   "cell_type": "code",
   "execution_count": null,
   "id": "8999134a-80f5-4c89-9307-7ef48c83d42a",
   "metadata": {},
   "outputs": [],
   "source": []
  }
 ],
 "metadata": {
  "kernelspec": {
   "display_name": "Python 3 (ipykernel)",
   "language": "python",
   "name": "python3"
  },
  "language_info": {
   "codemirror_mode": {
    "name": "ipython",
    "version": 3
   },
   "file_extension": ".py",
   "mimetype": "text/x-python",
   "name": "python",
   "nbconvert_exporter": "python",
   "pygments_lexer": "ipython3",
   "version": "3.12.3"
  }
 },
 "nbformat": 4,
 "nbformat_minor": 5
}
