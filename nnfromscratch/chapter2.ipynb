{
 "cells": [
  {
   "cell_type": "code",
   "execution_count": 10,
   "id": "fd17b521-bc2f-4705-821b-a811ae4a4bf5",
   "metadata": {},
   "outputs": [],
   "source": [
    "# For a single neuron we have 3 inputs, 3 weights, and one bias\n",
    "inputs = [1, 2, 3]\n",
    "weights = [0.2, 0.8, -0.5]\n",
    "bias = 2\n",
    "# y = sum(inputs[i] * weights[i]) + bias | (i = 0 -> 2 in this case)"
   ]
  },
  {
   "cell_type": "code",
   "execution_count": 13,
   "id": "da1afb72-ebff-479d-b74d-396052906a22",
   "metadata": {},
   "outputs": [],
   "source": [
    "output = (inputs[0] * weights[0] + inputs[1] * weights[1] + inputs[2] * weights[2] + bias)"
   ]
  },
  {
   "cell_type": "code",
   "execution_count": 14,
   "id": "17f7da7c-513c-49a2-8427-f04bf4464428",
   "metadata": {},
   "outputs": [
    {
     "data": {
      "text/plain": [
       "2.3"
      ]
     },
     "execution_count": 14,
     "metadata": {},
     "output_type": "execute_result"
    }
   ],
   "source": [
    "output"
   ]
  },
  {
   "cell_type": "code",
   "execution_count": 22,
   "id": "9f89dcab-92fc-498a-80a9-a960edf7fb4b",
   "metadata": {},
   "outputs": [
    {
     "name": "stdout",
     "output_type": "stream",
     "text": [
      "[1.0, 2.0, 3.0, 2.5]\n",
      "[0.2, 0.8, -0.5, 1.0]\n"
     ]
    }
   ],
   "source": [
    "# adding a new previous neuron which adds a new input and weight\n",
    "# still a single neuron with now 4 inputs, 4 weights, and one bias\n",
    "inputs = [1.0, 2.0, 3.0, 2.5]\n",
    "weights = [0.2, 0.8, -0.5, 1.0]\n",
    "bias = 2\n",
    "print(inputs)\n",
    "print(weights)"
   ]
  },
  {
   "cell_type": "code",
   "execution_count": 23,
   "id": "8be90f78-7dff-4eb6-b73d-66a82786f90b",
   "metadata": {},
   "outputs": [],
   "source": [
    "output = (inputs[0] * weights[0] + inputs[1] * weights[1] + inputs[2] * weights[2] + inputs[3] * weights[3] + bias)"
   ]
  },
  {
   "cell_type": "code",
   "execution_count": 24,
   "id": "dc05ed04-18d1-4ab5-8c6d-089dbed7f198",
   "metadata": {},
   "outputs": [
    {
     "data": {
      "text/plain": [
       "4.8"
      ]
     },
     "execution_count": 24,
     "metadata": {},
     "output_type": "execute_result"
    }
   ],
   "source": [
    "output"
   ]
  },
  {
   "cell_type": "code",
   "execution_count": 29,
   "id": "5cb9c4ce-e0d9-46bc-bd6f-5ee4ef9188ff",
   "metadata": {},
   "outputs": [],
   "source": [
    "# Now a group (layer) of 3 neurons that had 4 inputs (whether training data or previous neurons from previous layer)\n",
    "# All have the same inputs since each of them are connected to the previous ones / training data\n",
    "inputs = [1.0, 2.0, 3.0, 2.5]\n",
    "# 3 unique weights for each neuron\n",
    "weights1 = [0.2, 0.8, -0.5, 1.0]\n",
    "weights2 = [0.5, -0.91, 0.26, -0.5]\n",
    "weights3 = [-0.26, -0.27, 0.17, 0.87]\n",
    "\n",
    "# 3 different unique biases for each neuron\n",
    "bias1 = 2\n",
    "bias2 = 3\n",
    "bias3 = 0.5"
   ]
  },
  {
   "cell_type": "code",
   "execution_count": 30,
   "id": "0d4948eb-d20b-443e-92da-787e136fe0be",
   "metadata": {},
   "outputs": [],
   "source": [
    "# Outputs for all 3 neurons\n",
    "outputs = [\n",
    "    # Neuron 1\n",
    "    inputs[0] * weights1[0] +\n",
    "    inputs[1] * weights1[1] +\n",
    "    inputs[2] * weights1[2] +\n",
    "    inputs[3] * weights1[3] + bias1,\n",
    "\n",
    "    # Neuron 2\n",
    "    inputs[0] * weights2[0] +\n",
    "    inputs[1] * weights2[1] +\n",
    "    inputs[2] * weights2[2] +\n",
    "    inputs[3] * weights2[3] + bias2,\n",
    "\n",
    "    # Neuron 3\n",
    "    inputs[0] * weights3[0] +\n",
    "    inputs[1] * weights3[1] +\n",
    "    inputs[2] * weights3[2] +\n",
    "    inputs[3] * weights3[3] + bias3]"
   ]
  },
  {
   "cell_type": "code",
   "execution_count": 34,
   "id": "1af607b1-535f-4b98-a076-d2627196b824",
   "metadata": {},
   "outputs": [
    {
     "data": {
      "text/plain": [
       "[4.8, 1.21, 2.385]"
      ]
     },
     "execution_count": 34,
     "metadata": {},
     "output_type": "execute_result"
    }
   ],
   "source": [
    "outputs"
   ]
  },
  {
   "cell_type": "code",
   "execution_count": 35,
   "id": "fdb1cb04-9437-45d3-94d0-134f601e2d9f",
   "metadata": {},
   "outputs": [],
   "source": [
    "# Doing the same as before but without hard coding because the more neurons we have, the more work it would be\n",
    "inputs = [1, 2, 3, 2.5]\n",
    "weights = [[0.2, 0.8, -0.5, 1.0],\n",
    "           [0.5, -0.91, 0.26, -0.5],\n",
    "           [-0.26, -0.27, 0.17, 0.87]]\n",
    "biases = [2, 3, 0.5]"
   ]
  },
  {
   "cell_type": "code",
   "execution_count": 37,
   "id": "9846eeb9-8ea4-4815-8dc8-258144692184",
   "metadata": {},
   "outputs": [],
   "source": [
    "# getting output this way (layer_outputs)\n",
    "layer_outputs = []\n",
    "\n",
    "for neuron_weights, neuron_bias in zip(weights, biases):\n",
    "\n",
    "    # Zeroed output at start of this current neuron's iteration\n",
    "    neuron_output = 0\n",
    "\n",
    "    # For each input and weight to the neuron\n",
    "    for n_input, weight in zip(inputs, neuron_weights):\n",
    "        # Multiply input by weight and add to output\n",
    "        neuron_output += n_input * weight\n",
    "    # Add bias\n",
    "    neuron_output += neuron_bias\n",
    "\n",
    "    # Add this neuron's outputs to the layer_outputs array\n",
    "    layer_outputs.append(neuron_output)"
   ]
  },
  {
   "cell_type": "code",
   "execution_count": 40,
   "id": "e920b974-7dbf-4973-9589-3e767c2c9e87",
   "metadata": {},
   "outputs": [
    {
     "data": {
      "text/plain": [
       "[4.8, 1.21, 2.385]"
      ]
     },
     "execution_count": 40,
     "metadata": {},
     "output_type": "execute_result"
    }
   ],
   "source": [
    "# Should be [4.8, 1.21, 2.385] if not, then probably ran above cell more than once\n",
    "layer_outputs"
   ]
  },
  {
   "cell_type": "code",
   "execution_count": 1,
   "id": "c2b56122-94f6-4a90-bcec-a7cb343684c5",
   "metadata": {},
   "outputs": [],
   "source": [
    "# Lists vs Arrays vs Matrices vs Vectors vs Tensors\n",
    "# This is a list, an array and a vector, and not matrix because not 2d\n",
    "l = [1,5,6,2]\n",
    "\n",
    "# list of lists, a matrix, not a vector, and a 2d array\n",
    "lol = [[1,5,6,2],\n",
    "       [3,2,1,3]]\n",
    "\n",
    "# lists of lists of lists, a 3d array, not a vector, and not a matrix because not 2d\n",
    "lolol = [[[1,5,6,2],\n",
    "          [3,2,1,3]],\n",
    "         [[5,2,1,2],\n",
    "          [6,4,8,4]],\n",
    "         [[2,8,5,3],\n",
    "          [1,1,9,4]]]\n",
    "\n",
    "# list of lists, not array because different lengths (not homologous), not a vector because not 1d, and not a matrix because not homologous\n",
    "another_list_of_lists = [[4,2,3],\n",
    "                         [5,1]]\n",
    "\n",
    "# This is a list of lists, a 2d array, not a vector because not 1d, and a matrix because it is 2d\n",
    "list_matrix_array = [[4,2],\n",
    "                     [5,1],\n",
    "                     [8,2]]\n",
    "\n",
    "# Shape is (3, 2, 4): 3 because 3 elements (2d arrays) inside the outermost brackets, 2 because of 2 elements (1d arrays) per chunk\n",
    "# from the previous elements, and 4 because 4 elements per single array per chunk per element\n",
    "# [[1,5,6,2],\n",
    "#  [3,2,1,3]]\n",
    "\n",
    "# [[5,2,1,2],\n",
    "#  [6,4,8,4]]\n",
    "\n",
    "# [[2,8,5,3],\n",
    "#  [1,1,9,4]]\n",
    "lolol = [[[1,5,6,2],\n",
    "          [3,2,1,3]],\n",
    "         [[5,2,1,2],\n",
    "          [6,4,8,4]],\n",
    "         [[2,8,5,3],\n",
    "          [1,1,9,4]]]\n"
   ]
  },
  {
   "cell_type": "code",
   "execution_count": 2,
   "id": "75b47cbb-97ec-4960-810b-662beb8e9aaa",
   "metadata": {},
   "outputs": [
    {
     "name": "stdout",
     "output_type": "stream",
     "text": [
      "Dot Product of vectors [1, 2, 3] and [2, 3, 4]: 20\n"
     ]
    }
   ],
   "source": [
    "# Dot Product\n",
    "# Vector a * Vector b = sum from i = 1 to n of a_i * b_i = a[1] * b[1] + a[2] * b[2] + ... + a[n] * b[n]\n",
    "\n",
    "# Example:\n",
    "# 2 vectors\n",
    "a = [1,2,3]\n",
    "b = [2,3,4]\n",
    "\n",
    "# Calculate dot product in a rudimentary way\n",
    "dot_product = a[0] * b[0] + a[1] * b[1] + a[2] * b[2]\n",
    "print(f\"Dot Product of vectors {a} and {b}: {dot_product}\")"
   ]
  },
  {
   "cell_type": "code",
   "execution_count": 1,
   "id": "e9c47129-6cdf-4473-a1ce-ffe51befc630",
   "metadata": {},
   "outputs": [
    {
     "name": "stdout",
     "output_type": "stream",
     "text": [
      "Resulting vector after adding the two vectors [1, 2, 3] and [2, 3, 4] is: [3, 5, 7]\n"
     ]
    }
   ],
   "source": [
    "# Vector Addition\n",
    "# Vector a + Vector b = Vector(a[1] + b[1], a[2] + b[2], a[n]+ b[n]) where n is the length of vectors a and b\n",
    "\n",
    "# Example:\n",
    "# 2 vectors\n",
    "a = [1,2,3]\n",
    "b = [2,3,4]\n",
    "\n",
    "# Calculate vector addition in a rudimentary way\n",
    "vector_add = [a[0] + b[0], a[1] + b[1], a[2] + b[2]]\n",
    "print(f\"Resulting vector after adding the two vectors {a} and {b} is: {vector_add}\")"
   ]
  },
  {
   "cell_type": "code",
   "execution_count": 2,
   "id": "e4898c03-c402-46c0-a90b-4e4726c03fc4",
   "metadata": {},
   "outputs": [],
   "source": [
    "# Starting to use numpy\n",
    "import numpy as np"
   ]
  },
  {
   "cell_type": "code",
   "execution_count": 6,
   "id": "8eace034-9f1b-48e7-b407-6e9b14f49c0c",
   "metadata": {},
   "outputs": [
    {
     "name": "stdout",
     "output_type": "stream",
     "text": [
      "4.8\n"
     ]
    }
   ],
   "source": [
    "# For 1 neuron\n",
    "inputs = [1.0, 2.0, 3.0, 2.5]\n",
    "weights = [0.2, 0.8, -0.5, 1.0]\n",
    "bias = 2.0\n",
    "\n",
    "outputs = np.dot(weights, inputs) + bias\n",
    "\n",
    "print(outputs)"
   ]
  },
  {
   "cell_type": "code",
   "execution_count": 14,
   "id": "6d7f0c1a-4882-4013-baf9-33129a6998a3",
   "metadata": {},
   "outputs": [
    {
     "data": {
      "text/plain": [
       "array([4.8  , 1.21 , 2.385])"
      ]
     },
     "execution_count": 14,
     "metadata": {},
     "output_type": "execute_result"
    }
   ],
   "source": [
    "# For 3 neurons\n",
    "# Doing the same calculation for 3 neurons as before but with numpy this time\n",
    "inputs = [1.0, 2.0, 3.0, 2.5]\n",
    "weights = [[0.2, 0.8, -0.5, 1.0],\n",
    "           [0.5, -0.91, 0.26, -0.5],\n",
    "           [-0.26, -0.27, 0.17, 0.87]]\n",
    "biases = [2.0, 3.0, 0.5]\n",
    "\n",
    "layer_outputs = np.dot(weights, inputs) + biases\n",
    "\n",
    "layer_outputs"
   ]
  },
  {
   "cell_type": "code",
   "execution_count": 19,
   "id": "03d27897-6a83-4763-ba96-ec905a365488",
   "metadata": {},
   "outputs": [
    {
     "data": {
      "text/plain": [
       "(8, 4)"
      ]
     },
     "execution_count": 19,
     "metadata": {},
     "output_type": "execute_result"
    }
   ],
   "source": [
    "# Working with batches of inputs instead of one at a time\n",
    "batch = [[1,5,6,2],\n",
    "         [3,2,1,3],\n",
    "         [5,2,1,2],\n",
    "         [6,4,8,4],\n",
    "         [2,8,5,3],\n",
    "         [1,1,9,4],\n",
    "         [6,6,0,4],\n",
    "         [8,7,6,4]]\n",
    "\n",
    "np.shape(batch)"
   ]
  },
  {
   "cell_type": "code",
   "execution_count": 33,
   "id": "c975bfb9-4d2c-4658-b5db-504f4cf8fd53",
   "metadata": {},
   "outputs": [
    {
     "name": "stdout",
     "output_type": "stream",
     "text": [
      "(5, 4)\n",
      "(4, 5)\n",
      "\n",
      "[[1.0453 0.7852 0.7876 1.7584 0.5687]\n",
      " [1.1466 0.9    0.8784 1.7395 0.8001]\n",
      " [1.5916 0.9719 1.2716 2.0375 1.2419]\n",
      " [1.2665 0.7044 0.9876 1.5041 0.8086]\n",
      " [1.2042 0.6507 0.8892 1.2573 0.5049]]\n",
      "(5, 5)\n",
      "\n",
      "[[2.1159 1.6066 2.3471 0.7541]\n",
      " [1.0575 0.7401 1.092  0.4308]\n",
      " [1.7335 1.557  1.6571 0.6628]\n",
      " [1.6708 1.2943 2.1003 0.7128]]\n",
      "(4, 4)\n"
     ]
    }
   ],
   "source": [
    "# Matrix Product\n",
    "a = [[0.49,0.97,0.53,0.05],\n",
    "     [0.33,0.65,0.62,0.51],\n",
    "     [1.0,0.38,0.61,0.45],\n",
    "     [0.74,0.27,0.64,0.17],\n",
    "     [0.36,0.17,0.96,0.12]]\n",
    "\n",
    "print(np.shape(a))\n",
    "\n",
    "b = [[0.79,0.32,0.68,0.9,0.77],\n",
    "     [0.18,0.39,0.12,0.93,0.09],\n",
    "     [0.87,0.42,0.6,0.71,0.12],\n",
    "     [0.45,0.55,0.4,0.78,0.81]]\n",
    "\n",
    "print(np.shape(b))\n",
    "print(\"\")\n",
    "\n",
    "# Perform Matrix Product\n",
    "\n",
    "# a * b\n",
    "c = np.dot(a, b)\n",
    "print(c)\n",
    "print(np.shape(c))\n",
    "\n",
    "# b * a\n",
    "c = np.dot(b, a)\n",
    "print(\"\")\n",
    "print(c)\n",
    "print(np.shape(c))"
   ]
  },
  {
   "cell_type": "code",
   "execution_count": 50,
   "id": "175f4be6-4be7-4c22-9ae4-b2cc5a30cfb1",
   "metadata": {},
   "outputs": [
    {
     "name": "stdout",
     "output_type": "stream",
     "text": [
      "[[1 2 3]]\n",
      "(1, 3)\n",
      "\n",
      "[[2]\n",
      " [3]\n",
      " [4]]\n",
      "(3, 1)\n",
      "\n",
      "[[20]]\n",
      "(1, 1)\n"
     ]
    }
   ],
   "source": [
    "# Matrix Product with a row vector and a column vector (matrices)\n",
    "\n",
    "# Row vector\n",
    "a = np.array([1,2,3])\n",
    "a = np.atleast_2d(a)\n",
    "print(a)\n",
    "print(np.shape(a))\n",
    "\n",
    "print(\"\")\n",
    "\n",
    "# Column vector\n",
    "b = np.array([2,3,4])\n",
    "b = np.atleast_2d(b).T\n",
    "print(b)\n",
    "print(np.shape(b))\n",
    "\n",
    "print(\"\")\n",
    "\n",
    "c = np.dot(a, b)\n",
    "print(c)\n",
    "print(np.shape(c))"
   ]
  },
  {
   "cell_type": "code",
   "execution_count": 56,
   "id": "17c5605d-e0df-4ec7-b7a7-704d616f8e78",
   "metadata": {},
   "outputs": [
    {
     "name": "stdout",
     "output_type": "stream",
     "text": [
      "[[ 0  1  2  3  4]\n",
      " [ 5  6  7  8  9]\n",
      " [10 11 12 13 14]\n",
      " [15 16 17 18 19]]\n",
      "(4, 5)\n",
      "\n",
      "[[ 0  5 10 15]\n",
      " [ 1  6 11 16]\n",
      " [ 2  7 12 17]\n",
      " [ 3  8 13 18]\n",
      " [ 4  9 14 19]]\n",
      "(5, 4)\n"
     ]
    }
   ],
   "source": [
    "# Transposition of matrices or vectors\n",
    "a = np.array([[0, 1, 2, 3, 4],\n",
    "              [5, 6, 7, 8, 9],\n",
    "              [10, 11, 12, 13, 14],\n",
    "              [15, 16, 17, 18, 19]])\n",
    "\n",
    "a_T = a.T # transpose\n",
    "\n",
    "print(a)\n",
    "print(np.shape(a))\n",
    "\n",
    "print(\"\") \n",
    "\n",
    "print(a_T)\n",
    "print(np.shape(a_T))\n",
    "\n",
    "# What we see happen is that matrix a's left to right elements are now it's up to down elements\n",
    "# Similarily, it's up to down elements are now its left to right elements\n",
    "# If you see the order it used to be 0 1 2 3 4 in the first array in the outer array but now its 0 5 10 15 which was\n",
    "# The up to down order from the array before being transposed"
   ]
  },
  {
   "cell_type": "code",
   "execution_count": null,
   "id": "95f7671a-a361-4f5b-bbb9-28adfce833b5",
   "metadata": {},
   "outputs": [],
   "source": []
  }
 ],
 "metadata": {
  "kernelspec": {
   "display_name": "Python 3 (ipykernel)",
   "language": "python",
   "name": "python3"
  },
  "language_info": {
   "codemirror_mode": {
    "name": "ipython",
    "version": 3
   },
   "file_extension": ".py",
   "mimetype": "text/x-python",
   "name": "python",
   "nbconvert_exporter": "python",
   "pygments_lexer": "ipython3",
   "version": "3.12.3"
  }
 },
 "nbformat": 4,
 "nbformat_minor": 5
}
